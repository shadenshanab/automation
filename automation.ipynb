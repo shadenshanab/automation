{
 "cells": [
  {
   "cell_type": "code",
   "execution_count": 1,
   "metadata": {},
   "outputs": [],
   "source": [
    "import pandas as pd\n",
    "import numpy as np\n",
    "import matplotlib.pyplot as plt\n",
    "import matplotlib.colors"
   ]
  },
  {
   "cell_type": "markdown",
   "metadata": {},
   "source": [
    "### Reading files"
   ]
  },
  {
   "cell_type": "code",
   "execution_count": 2,
   "metadata": {},
   "outputs": [],
   "source": [
    "df = pd.read_csv('data.csv')\n",
    "\n"
   ]
  },
  {
   "cell_type": "markdown",
   "metadata": {},
   "source": [
    "### Understanding The Data and Cleaning it"
   ]
  },
  {
   "cell_type": "code",
   "execution_count": 3,
   "metadata": {},
   "outputs": [
    {
     "name": "stdout",
     "output_type": "stream",
     "text": [
      "<class 'pandas.core.frame.DataFrame'>\n",
      "RangeIndex: 1 entries, 0 to 0\n",
      "Data columns (total 8 columns):\n",
      " #   Column              Non-Null Count  Dtype \n",
      "---  ------              --------------  ----- \n",
      " 0   Meeting ID          1 non-null      object\n",
      " 1   Topic               1 non-null      object\n",
      " 2   Start Time          1 non-null      object\n",
      " 3   End Time            1 non-null      object\n",
      " 4   User Email          1 non-null      object\n",
      " 5   Duration (Minutes)  1 non-null      object\n",
      " 6   Participants        1 non-null      object\n",
      " 7   Unnamed: 7          0 non-null      object\n",
      "dtypes: object(8)\n",
      "memory usage: 192.0+ bytes\n"
     ]
    }
   ],
   "source": [
    "df.head()\n",
    "df_meeting_data = df.iloc[:1]\n",
    "df_meeting_data.info()"
   ]
  },
  {
   "cell_type": "code",
   "execution_count": 4,
   "metadata": {},
   "outputs": [
    {
     "name": "stdout",
     "output_type": "stream",
     "text": [
      "<class 'pandas.core.frame.DataFrame'>\n",
      "RangeIndex: 64 entries, 2 to 65\n",
      "Data columns (total 8 columns):\n",
      " #   Column                Non-Null Count  Dtype \n",
      "---  ------                --------------  ----- \n",
      " 0   Name (Original Name)  64 non-null     object\n",
      " 1   User Email            42 non-null     object\n",
      " 2   Join Time             64 non-null     object\n",
      " 3   Leave Time            64 non-null     object\n",
      " 4   Duration (Minutes)    64 non-null     object\n",
      " 5   Guest                 64 non-null     object\n",
      " 6   Recording Consent     12 non-null     object\n",
      " 7   In Waiting Room       64 non-null     object\n",
      "dtypes: object(8)\n",
      "memory usage: 4.1+ KB\n"
     ]
    }
   ],
   "source": [
    "meeting_duration = df_meeting_data[\"Duration (Minutes)\"]\n",
    "meeting_duration = int(meeting_duration)\n",
    "df_participants = df.iloc[1:].rename(columns=df.iloc[1]).drop(index=1)\n",
    "df_participants.head()\n",
    "df_participants.info()"
   ]
  },
  {
   "cell_type": "code",
   "execution_count": 5,
   "metadata": {},
   "outputs": [
    {
     "data": {
      "text/plain": [
       "Index(['Name (Original Name)', 'User Email', 'Join Time', 'Leave Time',\n",
       "       'Duration (Minutes)', 'Guest', 'Recording Consent', 'In Waiting Room'],\n",
       "      dtype='object')"
      ]
     },
     "execution_count": 5,
     "metadata": {},
     "output_type": "execute_result"
    }
   ],
   "source": [
    "df_participants.columns"
   ]
  },
  {
   "cell_type": "markdown",
   "metadata": {},
   "source": [
    "### Analyzing Students Attendance\n",
    "\n",
    "Specifications:\n",
    "- student is considered present if they attend the meeting on time or less than 10 minutes late\n",
    "\n",
    "- student is considered late if they're late more than 20 minutes\n",
    "\n",
    "- student is considered Absent if they were late more than 20 minutes."
   ]
  },
  {
   "cell_type": "code",
   "execution_count": 6,
   "metadata": {},
   "outputs": [
    {
     "name": "stdout",
     "output_type": "stream",
     "text": [
      "<class 'pandas.core.frame.DataFrame'>\n",
      "RangeIndex: 29 entries, 0 to 28\n",
      "Data columns (total 4 columns):\n",
      " #   Column                 Non-Null Count  Dtype  \n",
      "---  ------                 --------------  -----  \n",
      " 0   Student ID             29 non-null     object \n",
      " 1   Attended Time          29 non-null     int64  \n",
      " 2   Attendance Percentage  29 non-null     float64\n",
      " 3   Status                 29 non-null     object \n",
      "dtypes: float64(1), int64(1), object(2)\n",
      "memory usage: 1.0+ KB\n"
     ]
    }
   ],
   "source": [
    "df_participants[\"Student ID\"] = df_participants[\"User Email\"].str.extract(pat='(^[0-9]*)')\n",
    "df_participants = df_participants.dropna(subset=['Student ID'])\n",
    "df_participants[\"Attended Time\"] = df_participants[\"Duration (Minutes)\"].astype(\"int\")\n",
    "df_participants = df_participants.groupby(\"Student ID\", as_index=False)[\"Attended Time\"].sum()\n",
    "df_participants[\"Attendance Percentage\"] = (df_participants[\"Attended Time\"]/meeting_duration)*100\n",
    "df_participants[\"Status\"] = ['Absent' if x < meeting_duration - 21 else \"Late\" if meeting_duration - 20 <= x < meeting_duration-10 else \"Present\" for x in df_participants[\"Attended Time\"]]\n",
    "df_participants.info()"
   ]
  },
  {
   "cell_type": "code",
   "execution_count": 7,
   "metadata": {},
   "outputs": [],
   "source": [
    "df_participants = df_participants.iloc[1:]"
   ]
  },
  {
   "cell_type": "code",
   "execution_count": 8,
   "metadata": {},
   "outputs": [],
   "source": [
    "def highlight_cells(val):\n",
    "    if val == 100:\n",
    "        code = (0.3,0.5,1)\n",
    "        color = matplotlib.colors.hsv_to_rgb(code)\n",
    "        final = matplotlib.colors.to_hex(color, keep_alpha=False)\n",
    "    elif val >= 50:\n",
    "        code = (0.3,0.5,0.5)\n",
    "        color = matplotlib.colors.hsv_to_rgb(code)\n",
    "        final = matplotlib.colors.to_hex(color, keep_alpha=False)\n",
    "    elif val < 50:\n",
    "        code = (0.3,0.5,0.3)\n",
    "        color = matplotlib.colors.hsv_to_rgb(code)\n",
    "        final = matplotlib.colors.to_hex(color, keep_alpha=False)\n",
    "    else:\n",
    "        final = ''\n",
    "    return 'background-color: {}'.format(final)"
   ]
  },
  {
   "cell_type": "code",
   "execution_count": 9,
   "metadata": {},
   "outputs": [],
   "source": [
    "df_participants.style.applymap(highlight_cells, subset=['Attendance Percentage']).to_excel('data.xlsx', engine='openpyxl')"
   ]
  }
 ],
 "metadata": {
  "kernelspec": {
   "display_name": "Python 3.10.7 ('.venv': venv)",
   "language": "python",
   "name": "python3"
  },
  "language_info": {
   "codemirror_mode": {
    "name": "ipython",
    "version": 3
   },
   "file_extension": ".py",
   "mimetype": "text/x-python",
   "name": "python",
   "nbconvert_exporter": "python",
   "pygments_lexer": "ipython3",
   "version": "3.10.7"
  },
  "orig_nbformat": 4,
  "vscode": {
   "interpreter": {
    "hash": "4a5aa285b4faf25dd0416a01dc41fd1b461dc6c723563637f41895fea3ce706a"
   }
  }
 },
 "nbformat": 4,
 "nbformat_minor": 2
}
